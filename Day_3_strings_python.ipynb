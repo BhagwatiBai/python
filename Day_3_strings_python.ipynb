{
 "cells": [
  {
   "cell_type": "markdown",
   "metadata": {},
   "source": [
    "# string: \n",
    "- Anything written between single, double and triple quotes considered as string in python.\n",
    "- It is immutuable(unchangable) and iterable in nature.\n",
    "- [] square brackets are used to access the element of string.\n",
    "- Python considers empty string \" \" have the boolean values of \"False\" and non empty string \"Hi\" have booolean value of \"True\".\n"
   ]
  },
  {
   "cell_type": "code",
   "execution_count": null,
   "metadata": {},
   "outputs": [],
   "source": [
    "# creating the string using all the quotes.\n",
    "\n",
    "string = 'This string is created using: \"single quote\".'\n",
    "print(string)"
   ]
  },
  {
   "cell_type": "code",
   "execution_count": null,
   "metadata": {},
   "outputs": [],
   "source": [
    "string1 = \"This string is created using:'double quote'.\"\n",
    "print(string1)"
   ]
  },
  {
   "cell_type": "code",
   "execution_count": null,
   "metadata": {},
   "outputs": [],
   "source": [
    "string2 = '''This string is created\n",
    "using: \"triple quote\".'''\n",
    "print(string2)"
   ]
  },
  {
   "cell_type": "code",
   "execution_count": null,
   "metadata": {},
   "outputs": [],
   "source": [
    "# Converting another datatype into string.\n",
    "\n",
    "num = str(42)\n",
    "print(num)\n",
    "type(num)"
   ]
  },
  {
   "cell_type": "code",
   "execution_count": null,
   "metadata": {},
   "outputs": [],
   "source": [
    "# Accessing the whole string, first element and last element.\n",
    "\n",
    "phrase = \"I am learning strings\"\n",
    "print(\"Printing all the elements:\",phrase)\n",
    "print(\" Number of element present in the phrase:\",len(phrase)) # len() used to check the no. of element present in the string."
   ]
  },
  {
   "cell_type": "code",
   "execution_count": null,
   "metadata": {},
   "outputs": [],
   "source": [
    "\n",
    "print(\"Accessing first element from the phrase:\", phrase[0])\n",
    "phrase[0]\n"
   ]
  },
  {
   "cell_type": "code",
   "execution_count": null,
   "metadata": {},
   "outputs": [],
   "source": [
    "# first method to access the last element from the string \n",
    "print(\"Accessing the last element from the phrase:\", phrase[-1])\n",
    "phrase[-1]"
   ]
  },
  {
   "cell_type": "code",
   "execution_count": null,
   "metadata": {},
   "outputs": [],
   "source": [
    "# second method.First check the length of the string then do indexing.\n",
    "\n",
    "len(phrase)\n",
    "phrase[20]\n"
   ]
  },
  {
   "cell_type": "markdown",
   "metadata": {},
   "source": [
    "# Slicing\n",
    "\n",
    "- To access a range of characters in the String, method of slicing is used. \n",
    "- slicing operator(:)\n",
    "- slicing operation(start,stop,end), (stop-1)\n"
   ]
  },
  {
   "cell_type": "code",
   "execution_count": null,
   "metadata": {},
   "outputs": [],
   "source": [
    "# to print the whole string.\n",
    "\n",
    "string = \"I am learning Data science\"\n",
    "string[:]"
   ]
  },
  {
   "cell_type": "code",
   "execution_count": null,
   "metadata": {},
   "outputs": [],
   "source": [
    "# print the string in reverse.\n",
    "string[::-1]"
   ]
  },
  {
   "cell_type": "code",
   "execution_count": null,
   "metadata": {},
   "outputs": [],
   "source": [
    "# to get the first element present in the index 0th position.\n",
    "\n",
    "string[0]"
   ]
  },
  {
   "cell_type": "code",
   "execution_count": null,
   "metadata": {},
   "outputs": [],
   "source": [
    "#Extract the word \"learning\" from the string.\n",
    "\n",
    "string[5:13]# stop-1\n"
   ]
  },
  {
   "cell_type": "code",
   "execution_count": null,
   "metadata": {},
   "outputs": [],
   "source": [
    "#Extract the  word \"Data Science\" using negative indexing.\n",
    "\n",
    "string[-12:]"
   ]
  },
  {
   "cell_type": "code",
   "execution_count": null,
   "metadata": {},
   "outputs": [],
   "source": [
    "# print every alternate element from the string.\n",
    "\n",
    "print(string[:])\n",
    "x=string[::2] #start:stop:step of 2.\n",
    "x\n"
   ]
  },
  {
   "cell_type": "code",
   "execution_count": null,
   "metadata": {},
   "outputs": [],
   "source": [
    "s= \"home\"\n",
    "s"
   ]
  },
  {
   "cell_type": "code",
   "execution_count": null,
   "metadata": {},
   "outputs": [],
   "source": [
    "s[::-1]"
   ]
  },
  {
   "cell_type": "code",
   "execution_count": null,
   "metadata": {},
   "outputs": [],
   "source": [
    "s[::-2]"
   ]
  },
  {
   "cell_type": "code",
   "execution_count": null,
   "metadata": {},
   "outputs": [],
   "source": [
    "string[::-1]"
   ]
  },
  {
   "cell_type": "code",
   "execution_count": null,
   "metadata": {},
   "outputs": [],
   "source": [
    "string[::-3] # it'll print the first 0th index then starts the step counts."
   ]
  },
  {
   "cell_type": "code",
   "execution_count": null,
   "metadata": {},
   "outputs": [],
   "source": [
    "string[:]"
   ]
  },
  {
   "cell_type": "code",
   "execution_count": null,
   "metadata": {},
   "outputs": [],
   "source": [
    "#extracting the word \" learning\" using negative index.\n",
    "string[-21:-13] "
   ]
  },
  {
   "cell_type": "code",
   "execution_count": null,
   "metadata": {},
   "outputs": [],
   "source": [
    "#print the word learning in reverse.\n",
    "string[5:13:-1] # not possible to reverse a particular word from the string."
   ]
  },
  {
   "cell_type": "markdown",
   "metadata": {},
   "source": [
    "# let's see why the strings are immutuable.\n",
    "\n",
    "- In Python, Updation or deletion of characters from a String is not allowed. This will cause an error because item           assignment or item deletion from a String is not supported. \n",
    "- Although deletion of entire String is possible with the use of a built-in del keyword. This is because Strings are         immutable, hence elements of a String cannot be changed once it has been assigned. \n",
    "- Only new strings can be reassigned to   the same name. "
   ]
  },
  {
   "cell_type": "code",
   "execution_count": null,
   "metadata": {},
   "outputs": [],
   "source": [
    "s = \"coding\"\n",
    "print(\"Intial string:\", s)"
   ]
  },
  {
   "cell_type": "code",
   "execution_count": null,
   "metadata": {},
   "outputs": [],
   "source": [
    "# # Replacing/updating single character \"c\" with \"l\"\n",
    "\n",
    "# s[0] = \"l\" # TypeError: 'str' object does not support item assignment"
   ]
  },
  {
   "cell_type": "code",
   "execution_count": 39,
   "metadata": {
    "scrolled": false
   },
   "outputs": [
    {
     "name": "stdout",
     "output_type": "stream",
     "text": [
      "Updated the initial string: loading\n",
      "loading\n"
     ]
    }
   ],
   "source": [
    "# replacing or updating whole string \"coding\" to \"loading\".\n",
    "\n",
    "s = \"loading\"\n",
    "print(\"Updated the initial string:\", s)\n",
    "print(s)"
   ]
  },
  {
   "cell_type": "code",
   "execution_count": 38,
   "metadata": {
    "scrolled": false
   },
   "outputs": [
    {
     "name": "stdout",
     "output_type": "stream",
     "text": [
      "True\n"
     ]
    }
   ],
   "source": [
    "x = \"python\"\n",
    "y = 'python'\n",
    "if x==y:\n",
    "    print(True)\n",
    "else:\n",
    "    print(False)"
   ]
  },
  {
   "cell_type": "code",
   "execution_count": null,
   "metadata": {},
   "outputs": [],
   "source": [
    "# deletion a character from the string.\n",
    "\n",
    "print(s)\n",
    "del s[0] # TypeError: 'str' object doesn't support item deletion\n",
    "print(s)"
   ]
  },
  {
   "cell_type": "code",
   "execution_count": null,
   "metadata": {
    "scrolled": true
   },
   "outputs": [],
   "source": [
    "# deleting the whole string.\n",
    "\n",
    "del s # string is deleted hence we got the error: NameError: name 's' is not defined\n",
    "print(\"Deleting entire string\")\n",
    "print(s)"
   ]
  },
  {
   "cell_type": "markdown",
   "metadata": {},
   "source": [
    "# Escaping sequence of string:\n",
    "\n",
    "- While printing Strings with single and double quotes in it causes SyntaxError because String already contains Single and Double Quotes and hence cannot be printed with the use of either of these. Hence, to print such a String either Triple Quotes are used or Escape sequences are used to print such Strings. \n",
    "- Escape sequences start with a backslash and can be interpreted differently. If single quotes are used to represent a string, then all the single quotes present in the string must be escaped and same is done for Double Quotes. "
   ]
  },
  {
   "cell_type": "code",
   "execution_count": 58,
   "metadata": {},
   "outputs": [
    {
     "name": "stdout",
     "output_type": "stream",
     "text": [
      "Initial string using triple quote:\n",
      "Hi I'm learning \"python.\"\n",
      "\n",
      "Escaping single quote:\n",
      "Hi, I'm learning \"Python\" \n",
      "\n",
      "Escaping double quote:\n",
      "Hi, I'm learning \"python\"\n",
      "\n",
      "Escaping backlashes:\n",
      "C:\\user\\bagggie\\python_practice\n"
     ]
    }
   ],
   "source": [
    "string = '''Hi I'm learning \"python.\"'''\n",
    "print(\"Initial string using triple quote:\")\n",
    "print(string)\n",
    "\n",
    "# Escaping using single quote.\n",
    "\n",
    "string = 'Hi, I\\'m learning \"Python\" '\n",
    "print(\"\\nEscaping single quote:\")\n",
    "print(string)\n",
    "\n",
    "# Escaping double quotes.\n",
    "\n",
    "string2 = \"Hi, I'm learning \\\"python\\\"\"\n",
    "print(\"\\nEscaping double quote:\")\n",
    "print(string2)\n",
    "\n",
    "#printing paths with use of escape sequence.\n",
    "string3 = \"C:\\\\user\\\\bagggie\\\\python_practice\"\n",
    "print(\"\\nEscaping backlashes:\")\n",
    "print(string3)"
   ]
  },
  {
   "cell_type": "markdown",
   "metadata": {},
   "source": [
    "# Formatting String: \n",
    "- Strings in Python can be formatted with the use of format() method which is very versatile and powerful tool for formatting of Strings. Format method in String contains curly braces {} as placeholders which can hold arguments according to position or keyword to specify the order.\n",
    "\n",
    "- Default formatting\n",
    "- Positional formatting\n",
    "- Keyword formatting"
   ]
  },
  {
   "cell_type": "code",
   "execution_count": 81,
   "metadata": {},
   "outputs": [
    {
     "name": "stdout",
     "output_type": "stream",
     "text": [
      "Default formatting:\n",
      "Hi, I am learning python coding.\n",
      "\n",
      "Positional Formatting\n",
      "Hi, I am learning coding in {python}\n",
      "\n",
      "Keyword formatting\n",
      "Hi, I am learning coding in python\n"
     ]
    }
   ],
   "source": [
    "# default formatting.\n",
    "\n",
    "string = \"Hi, I am {} {} {}.\".format('learning','python', 'coding')\n",
    "print(\"Default formatting:\")\n",
    "print(string)\n",
    "\n",
    "#positional formatting.\n",
    "string1 = \"Hi, I am {0} {2} in {{{1}}}\". format('learning','python','coding')\n",
    "print(\"\\nPositional Formatting\")\n",
    "print(string1)\n",
    "\n",
    "#keyword formatting\n",
    "string2 = \"Hi, I am {a} {c} in {b}\".format(a=\"learning\", b=\"python\", c=\"coding\")\n",
    "print(\"\\nKeyword formatting\")\n",
    "print(string2)"
   ]
  },
  {
   "cell_type": "markdown",
   "metadata": {},
   "source": [
    "# Basic string methods()"
   ]
  },
  {
   "cell_type": "code",
   "execution_count": 2,
   "metadata": {},
   "outputs": [
    {
     "name": "stdout",
     "output_type": "stream",
     "text": [
      "pursue passion more than profit\n"
     ]
    }
   ],
   "source": [
    "# converting the string into lower case.\n",
    "\n",
    "phrase = \"PURSUE PASSION MORE THAN PROFIT\"\n",
    "print(phrase.lower())"
   ]
  },
  {
   "cell_type": "code",
   "execution_count": 121,
   "metadata": {},
   "outputs": [
    {
     "name": "stdout",
     "output_type": "stream",
     "text": [
      "PURSUE PASSION MORE THAN PROFIT\n"
     ]
    }
   ],
   "source": [
    "# converting string into upper case.\n",
    "phrase = \"pursue passion more than profit\"\n",
    "print(phrase.upper())"
   ]
  },
  {
   "cell_type": "code",
   "execution_count": 88,
   "metadata": {},
   "outputs": [
    {
     "name": "stdout",
     "output_type": "stream",
     "text": [
      "31\n"
     ]
    }
   ],
   "source": [
    "# check the length of the string.\n",
    "\n",
    "print(len(phrase))"
   ]
  },
  {
   "cell_type": "code",
   "execution_count": 119,
   "metadata": {},
   "outputs": [
    {
     "name": "stdout",
     "output_type": "stream",
     "text": [
      "['pursuepassion', 'more', 'than', 'profit']\n"
     ]
    }
   ],
   "source": [
    "# split():split() method in Python split a string into a list of strings after breaking the given string by \n",
    "#the specified separator.\n",
    "\n",
    "print(phrase.split()) # split at space"
   ]
  },
  {
   "cell_type": "code",
   "execution_count": 131,
   "metadata": {},
   "outputs": [
    {
     "name": "stdout",
     "output_type": "stream",
     "text": [
      "['', 'ursue ', 'assion more than ', 'rofit']\n"
     ]
    }
   ],
   "source": [
    "print(phrase.split('p')) # splitting at 'p'"
   ]
  },
  {
   "cell_type": "code",
   "execution_count": 122,
   "metadata": {},
   "outputs": [
    {
     "name": "stdout",
     "output_type": "stream",
     "text": [
      "['pursue', 'passion', 'more', 'than', 'profit']\n"
     ]
    }
   ],
   "source": [
    "print(phrase.split(' ')) #split a string into a list of substrings separated by a delimiter"
   ]
  },
  {
   "cell_type": "code",
   "execution_count": 132,
   "metadata": {},
   "outputs": [
    {
     "name": "stdout",
     "output_type": "stream",
     "text": [
      "['pursue passion ', ' than profit']\n"
     ]
    }
   ],
   "source": [
    "print(phrase.split('more'))"
   ]
  },
  {
   "cell_type": "markdown",
   "metadata": {},
   "source": [
    "# startswith()\n",
    "\n",
    "- The startswith() string method checks whether a string starts with a particular substring. If the string starts with a specified substring, the startswith() method returns True; otherwise, the function returns False\n"
   ]
  },
  {
   "cell_type": "code",
   "execution_count": 134,
   "metadata": {},
   "outputs": [
    {
     "name": "stdout",
     "output_type": "stream",
     "text": [
      "True\n"
     ]
    }
   ],
   "source": [
    "print(phrase.startswith('p'))"
   ]
  },
  {
   "cell_type": "markdown",
   "metadata": {},
   "source": [
    "# endswith()\n",
    "\n",
    "- Python String endswith() method returns True if a string ends with the given suffix otherwise returns False."
   ]
  },
  {
   "cell_type": "code",
   "execution_count": 136,
   "metadata": {},
   "outputs": [
    {
     "name": "stdout",
     "output_type": "stream",
     "text": [
      "False\n"
     ]
    }
   ],
   "source": [
    "print(phrase.endswith('x'))# false coz phrase: pursue passion more than profit ends with 't'."
   ]
  },
  {
   "cell_type": "code",
   "execution_count": 137,
   "metadata": {},
   "outputs": [
    {
     "name": "stdout",
     "output_type": "stream",
     "text": [
      "False\n"
     ]
    }
   ],
   "source": [
    "# check whether the every character in the string is digit.\n",
    "\n",
    "print(phrase.isdigit())"
   ]
  },
  {
   "cell_type": "markdown",
   "metadata": {},
   "source": [
    "# find()\n",
    "- Python String find() method returns the lowest index of the substring if it is found in a given string. If it is not found then it returns -1. "
   ]
  },
  {
   "cell_type": "code",
   "execution_count": 140,
   "metadata": {},
   "outputs": [
    {
     "name": "stdout",
     "output_type": "stream",
     "text": [
      "-1\n",
      "5\n"
     ]
    }
   ],
   "source": [
    "word = \"Work is worship\"\n",
    "print(word.find('more')) # word more not found that's why it returned -1.\n",
    "print(word.find('is')) #it's returning the lowest index which 5 coz 'i' from is at 5th position in the index."
   ]
  },
  {
   "cell_type": "markdown",
   "metadata": {},
   "source": [
    "# replace()\n",
    "- replace() is an inbuilt function in the Python programming language that returns a copy of the string where all occurrences of a substring are replaced with another substring."
   ]
  },
  {
   "cell_type": "code",
   "execution_count": 150,
   "metadata": {},
   "outputs": [
    {
     "name": "stdout",
     "output_type": "stream",
     "text": [
      "Work is duty\n"
     ]
    }
   ],
   "source": [
    "print(word.replace('worship','duty', 2))"
   ]
  },
  {
   "cell_type": "markdown",
   "metadata": {},
   "source": [
    "# Join or concatenate\n",
    "- Python String join() method is a string method and returns a string in which the elements of the sequence have been joined by the str separator.\n",
    "- Return Value: The join() method returns a string concatenated with the elements of iterable. \n",
    "- Type Error:If the iterable contains any non-string values, it raises a TypeError exception. "
   ]
  },
  {
   "cell_type": "code",
   "execution_count": 16,
   "metadata": {},
   "outputs": [
    {
     "name": "stdout",
     "output_type": "stream",
     "text": [
      "Red green blue\n"
     ]
    }
   ],
   "source": [
    "# join a list of strings into one string using a delimiter.\n",
    "\n",
    "list = ['Red','green','blue']\n",
    "str = ' '\n",
    "print(str.join(list))"
   ]
  },
  {
   "cell_type": "code",
   "execution_count": 17,
   "metadata": {},
   "outputs": [
    {
     "name": "stdout",
     "output_type": "stream",
     "text": [
      "Red-green-blue\n"
     ]
    }
   ],
   "source": [
    "list = ['Red','green','blue']\n",
    "str = '-'\n",
    "print(str.join(list))"
   ]
  },
  {
   "cell_type": "code",
   "execution_count": 22,
   "metadata": {},
   "outputs": [
    {
     "name": "stdout",
     "output_type": "stream",
     "text": [
      "Blue:Green:Red\n"
     ]
    }
   ],
   "source": [
    "list = ['Red','Green','Blue']\n",
    "print(\":\".join(reversed(list)))"
   ]
  },
  {
   "cell_type": "code",
   "execution_count": 161,
   "metadata": {},
   "outputs": [
    {
     "name": "stdout",
     "output_type": "stream",
     "text": [
      "Hi I am Batman , hello everyone!\n"
     ]
    }
   ],
   "source": [
    "text1 = \"Hi I am \" \n",
    "text2 = \"Batman\"\n",
    "print(text1+text2+\" , \"+\"hello everyone!\")"
   ]
  },
  {
   "cell_type": "markdown",
   "metadata": {},
   "source": [
    "# Normal string vs Raw string"
   ]
  },
  {
   "cell_type": "code",
   "execution_count": 172,
   "metadata": {},
   "outputs": [
    {
     "name": "stdout",
     "output_type": "stream",
     "text": [
      "Normal:first line\n",
      "second line\n",
      "---------------------------------------------\n",
      "Raw:first line\\n second line\n"
     ]
    }
   ],
   "source": [
    "# normal string\n",
    "\n",
    "print(\"Normal:first line\\nsecond line\")\n",
    "print('-'*45)\n",
    "#Raw string\n",
    "\n",
    "print(r'Raw:first line\\n second line')"
   ]
  },
  {
   "cell_type": "code",
   "execution_count": 15,
   "metadata": {},
   "outputs": [
    {
     "name": "stdout",
     "output_type": "stream",
     "text": [
      "ATAD\n"
     ]
    }
   ],
   "source": [
    "# reverse a string\n",
    "\n",
    "string = \"DATA\"\n",
    "print(string[::-1])"
   ]
  },
  {
   "cell_type": "code",
   "execution_count": 23,
   "metadata": {},
   "outputs": [
    {
     "name": "stdout",
     "output_type": "stream",
     "text": [
      "home\n"
     ]
    }
   ],
   "source": [
    "x = 'home'\n",
    "print(x)"
   ]
  },
  {
   "cell_type": "code",
   "execution_count": 25,
   "metadata": {},
   "outputs": [
    {
     "data": {
      "text/plain": [
       "'come'"
      ]
     },
     "execution_count": 25,
     "metadata": {},
     "output_type": "execute_result"
    }
   ],
   "source": [
    "x.replace('h','c')"
   ]
  },
  {
   "cell_type": "code",
   "execution_count": 26,
   "metadata": {},
   "outputs": [
    {
     "name": "stdout",
     "output_type": "stream",
     "text": [
      "home\n"
     ]
    }
   ],
   "source": [
    "print(x)"
   ]
  },
  {
   "cell_type": "code",
   "execution_count": null,
   "metadata": {},
   "outputs": [],
   "source": []
  }
 ],
 "metadata": {
  "kernelspec": {
   "display_name": "Python 3",
   "language": "python",
   "name": "python3"
  },
  "language_info": {
   "codemirror_mode": {
    "name": "ipython",
    "version": 3
   },
   "file_extension": ".py",
   "mimetype": "text/x-python",
   "name": "python",
   "nbconvert_exporter": "python",
   "pygments_lexer": "ipython3",
   "version": "3.8.5"
  }
 },
 "nbformat": 4,
 "nbformat_minor": 4
}
