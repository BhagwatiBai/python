{
 "cells": [
  {
   "cell_type": "markdown",
   "metadata": {},
   "source": [
    "## Double-click to know about <u>Operators</u>.\n",
    "\n",
    "\n",
    "<!-- ### Operators in general are used to perform operations on values and variables.\n",
    "\n",
    "<u>Following are the types of operators:</u>\n",
    "\n",
    "- Airthemetic Operators\n",
    "- Comparison Operators \n",
    "- Logical Operators ( and, or , not)\n",
    "- Assignment Operators \n",
    "- Membership Operator (in, not in) --> \n",
    " \n",
    " "
   ]
  },
  {
   "cell_type": "code",
   "execution_count": null,
   "metadata": {},
   "outputs": [],
   "source": [
    "# Airthematic Operator  (+,-,*,/,%,//,**)\n",
    "\n",
    "x = 10\n",
    "y = 20\n",
    "sum = x+y # addition(+)\n",
    "print(\"Sum of two numbers:\",sum)"
   ]
  },
  {
   "cell_type": "code",
   "execution_count": null,
   "metadata": {},
   "outputs": [],
   "source": [
    "x = 10\n",
    "y = 20\n",
    "sub = x-y # substraction (-)\n",
    "print(\"Substraction of two numbers:\",sub)"
   ]
  },
  {
   "cell_type": "code",
   "execution_count": null,
   "metadata": {},
   "outputs": [],
   "source": [
    "x = 10\n",
    "y = 20\n",
    "mul = x*y # multiplication (*)\n",
    "print(\"Multiplication of two numbers:\",mul)"
   ]
  },
  {
   "cell_type": "code",
   "execution_count": 2,
   "metadata": {},
   "outputs": [
    {
     "name": "stdout",
     "output_type": "stream",
     "text": [
      "result in division float,i.e., float: 3.3333333333333335\n"
     ]
    }
   ],
   "source": [
    "x = 10\n",
    "y = 3\n",
    "div_float = x/y # Division float(/) gives the output as float type.\n",
    "print(\"result in division float,i.e., float:\",div_float)"
   ]
  },
  {
   "cell_type": "code",
   "execution_count": 1,
   "metadata": {},
   "outputs": [
    {
     "name": "stdout",
     "output_type": "stream",
     "text": [
      "result in division floor i.e., integer: 3\n"
     ]
    }
   ],
   "source": [
    "x = 10\n",
    "y = 3\n",
    "div_int = x//y # Division floor(//) gives the output as input type.\n",
    "print(\"result in division floor i.e., integer:\",div_int)"
   ]
  },
  {
   "cell_type": "code",
   "execution_count": null,
   "metadata": {},
   "outputs": [],
   "source": [
    "x=2\n",
    "y=3\n",
    "exponent= x**y # exponent (**) means 2**3=>2*2*2=8.\n",
    "print(\"result is:\",exponent)"
   ]
  },
  {
   "cell_type": "code",
   "execution_count": null,
   "metadata": {},
   "outputs": [],
   "source": [
    "x = 20\n",
    "y = 3\n",
    "mod = x%y # modulus (%) displays the remainder as an output.\n",
    "print(\"result is:\",mod)"
   ]
  },
  {
   "cell_type": "code",
   "execution_count": 37,
   "metadata": {},
   "outputs": [
    {
     "name": "stdout",
     "output_type": "stream",
     "text": [
      "False\n"
     ]
    }
   ],
   "source": [
    "# comparison Operator or relational operator. (>,>=,<,<=,==,!=)\n",
    "# This operator returns the output either as True or False until and unless you use it with the loops.\n",
    "\n",
    "a = 10\n",
    "b = 20\n",
    "print(a>b) # greater(>), returns False coz a is not greater than b."
   ]
  },
  {
   "cell_type": "code",
   "execution_count": 38,
   "metadata": {},
   "outputs": [
    {
     "name": "stdout",
     "output_type": "stream",
     "text": [
      "True\n"
     ]
    }
   ],
   "source": [
    "print(a<b) # lesser(<), returns True coz a is not greater than b."
   ]
  },
  {
   "cell_type": "code",
   "execution_count": 39,
   "metadata": {},
   "outputs": [
    {
     "name": "stdout",
     "output_type": "stream",
     "text": [
      "False\n"
     ]
    }
   ],
   "source": [
    "print(a>=b) #  greater than(>=), returns False coz a is neither greater nor equal to b."
   ]
  },
  {
   "cell_type": "code",
   "execution_count": 40,
   "metadata": {},
   "outputs": [
    {
     "name": "stdout",
     "output_type": "stream",
     "text": [
      "True\n"
     ]
    }
   ],
   "source": [
    "print(a<=b) #  lesser than(<=), returns true coz a is lesser than b."
   ]
  },
  {
   "cell_type": "code",
   "execution_count": 41,
   "metadata": {},
   "outputs": [
    {
     "name": "stdout",
     "output_type": "stream",
     "text": [
      "True\n"
     ]
    }
   ],
   "source": [
    "print(a!=b) #not equal(!=), returns true coz a is not equal to b.\n"
   ]
  },
  {
   "cell_type": "code",
   "execution_count": 42,
   "metadata": {},
   "outputs": [
    {
     "name": "stdout",
     "output_type": "stream",
     "text": [
      "False\n"
     ]
    }
   ],
   "source": [
    "print(a==b) # equal to(==), returns false coz a is not eqaul to b."
   ]
  },
  {
   "cell_type": "code",
   "execution_count": 60,
   "metadata": {},
   "outputs": [
    {
     "name": "stdout",
     "output_type": "stream",
     "text": [
      "5\n",
      "10\n",
      "5\n",
      "25\n",
      "5.0\n",
      "1.0\n"
     ]
    }
   ],
   "source": [
    "# Assignment operator. (=,+=,-=,*=,/=,//=,%=)\n",
    "\n",
    "x=5 \n",
    "y=x # assigning(=) x value 5 into y.\n",
    "print(y)\n",
    "\n",
    "y+=x # y+=x means y=y+x => y = 5+5=10.\n",
    "print(y)\n",
    "\n",
    "# Note: Now the value of y is 10 not 5.\n",
    "y-=x #y-=x means y=y-x => y=10-5=5.\n",
    "print(y)\n",
    "\n",
    "y*=x #y*=x means y=y*x => 5*5=25.\n",
    "print(y)\n",
    "\n",
    "y/=x #y/=x means y=y/x => 25/5 =5.0 coz (/) is division float.\n",
    "print(y)\n",
    "\n",
    "y//=x ## y/=x means y=y//x => 5.0/5 =1 coz (//) is division floor.\n",
    "print(y)"
   ]
  },
  {
   "cell_type": "code",
   "execution_count": 81,
   "metadata": {},
   "outputs": [
    {
     "name": "stdout",
     "output_type": "stream",
     "text": [
      "True :And operator worked!\n",
      "\n",
      "False :oops! didn't worked!\n",
      "\n",
      "True :Hurray, or operator worked!\n",
      "\n",
      "True\n"
     ]
    }
   ],
   "source": [
    "# logical operator ( and, or ,not)\n",
    "\n",
    "# and operator: True if both the operands are true.\n",
    "\n",
    "a=10\n",
    "b=15\n",
    "c= a<b and b>a #True: coz both the conditions are true.\n",
    "print(c, \":And operator worked!\")\n",
    "print()\n",
    "c= a>b and b<a\n",
    "print(c, \":oops! didn't worked!\")\n",
    "print()\n",
    "# Or operator: True if one of the condition is true.\n",
    "\n",
    "c= b>a or b==a\n",
    "print(c,\":Hurray, or operator worked!\")\n",
    "print()\n",
    "\n",
    "# not operator: True if operands is false.\n",
    "c = not(a>b and b>=a)\n",
    "print(c)\n"
   ]
  },
  {
   "cell_type": "code",
   "execution_count": 3,
   "metadata": {},
   "outputs": [
    {
     "name": "stdout",
     "output_type": "stream",
     "text": [
      "The 10 is present in the list [10, 20, 30, 40, 50]\n",
      "The 25 is not present in the list [10, 20, 30, 40, 50]\n"
     ]
    }
   ],
   "source": [
    "# Membership operator(in, not in)\n",
    "# It is used to check whether the value is present in the sequence or not.\n",
    "# sequence:storing multiple data in single varibale.such as list, array, tuple etc..\n",
    "\n",
    "# in: True if value is found in the sequence\n",
    "# not in: True if value is not found in the sequence\n",
    "\n",
    "x=10\n",
    "y=25\n",
    "\n",
    "l= [10,20,30,40,50]\n",
    "if (x in l):\n",
    "    print(\"The 10 is present in the list\",l)\n",
    "else:\n",
    "    print(\" y is Not in the list\")\n",
    "    \n",
    "if ( y not in l):\n",
    "    print(\"The 25 is not present in the list\", l)\n",
    "else:\n",
    "    print(\"Y is present in the list\")\n",
    "    \n",
    "    \n"
   ]
  },
  {
   "cell_type": "code",
   "execution_count": null,
   "metadata": {},
   "outputs": [],
   "source": []
  }
 ],
 "metadata": {
  "kernelspec": {
   "display_name": "Python 3",
   "language": "python",
   "name": "python3"
  },
  "language_info": {
   "codemirror_mode": {
    "name": "ipython",
    "version": 3
   },
   "file_extension": ".py",
   "mimetype": "text/x-python",
   "name": "python",
   "nbconvert_exporter": "python",
   "pygments_lexer": "ipython3",
   "version": "3.8.5"
  }
 },
 "nbformat": 4,
 "nbformat_minor": 4
}
