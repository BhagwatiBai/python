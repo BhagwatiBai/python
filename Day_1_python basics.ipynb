{
 "cells": [
  {
   "cell_type": "markdown",
   "metadata": {},
   "source": [
    "#           <h1 style=\"text-align:center;\"><u>Day 1</u> </h1>\n",
    "    \n",
    "    "
   ]
  },
  {
   "cell_type": "code",
   "execution_count": null,
   "metadata": {},
   "outputs": [],
   "source": [
    "# How to check the current version of python?\n",
    "\n",
    "import sys\n",
    "print(sys.version)"
   ]
  },
  {
   "cell_type": "markdown",
   "metadata": {},
   "source": [
    "# print() function: It is a inbuilt function which prints the text."
   ]
  },
  {
   "cell_type": "code",
   "execution_count": null,
   "metadata": {},
   "outputs": [],
   "source": [
    "# how to print Hello world, I am learning python!?\n",
    "\n",
    "print(\"Hello world, I am learning python!\")"
   ]
  },
  {
   "cell_type": "markdown",
   "metadata": {},
   "source": [
    "# Comments: It is used for documentation or when you want python to ignore set of lines in that case we use comments.\n",
    "\n",
    "##   for single line- \" Double quote\" or ' Single quote' can be used.\n",
    "##  for multiple lines- ''' Thriple (single inverted comma)quotes are used''' or cntrl+/"
   ]
  },
  {
   "cell_type": "code",
   "execution_count": null,
   "metadata": {},
   "outputs": [],
   "source": [
    "print(\"This is double quoted, single line comment.\")\n",
    "\n",
    "print(\"Hi, this is single quoted. Single line comment!\")\n",
    "\n",
    "print('''Hey, I am first method of multiline comment.\n",
    "Using triple-single inverted comma''')\n",
    "\n",
    "# a=10\n",
    "# b=20\n",
    "# c=10+20\n",
    "# print(c)\n",
    "\n",
    "print(\"Above example is the second method of commenting out multiple line,by using cntrl+/\")"
   ]
  },
  {
   "cell_type": "code",
   "execution_count": null,
   "metadata": {},
   "outputs": [],
   "source": [
    "# draw a square.\n",
    "print(\" _____ \")\n",
    "print(\"|     |\")\n",
    "print(\"|     |\")\n",
    "print(\"|_____| \")\n",
    "\n"
   ]
  },
  {
   "cell_type": "markdown",
   "metadata": {},
   "source": [
    "# <u>Variable and Identifiers</u>.\n",
    "\n",
    " - Variables are used to store the value. Basically, variable is an entity of program which holds/stores the values.\n",
    "\n",
    " - An identifier is a name given to entities like class, functions, variables, etc. It helps to differentiate one entity from another."
   ]
  },
  {
   "cell_type": "markdown",
   "metadata": {},
   "source": [
    "# <u>Rules to create the variables</u>\n",
    "\n",
    "- It should not starts from digits.\n",
    "- It should not contain any special characters except (under_score)\n",
    "- It should not contain the reserved keywords like if, elif etc..\n",
    "- It can be alpha_numberic.\n",
    "- python is case sensitive.\n"
   ]
  },
  {
   "cell_type": "code",
   "execution_count": null,
   "metadata": {},
   "outputs": [],
   "source": [
    "x = 10 # assigning 10 into variable x.\n",
    "x      # calling x variable.\n",
    "\n"
   ]
  },
  {
   "cell_type": "code",
   "execution_count": null,
   "metadata": {},
   "outputs": [],
   "source": [
    "x=20 # assigning new value in same variable x.\n",
    "x"
   ]
  },
  {
   "cell_type": "code",
   "execution_count": null,
   "metadata": {},
   "outputs": [],
   "source": [
    "1book= 'python' # inavlid syntax coz varibale name can not starts from a digit.\n"
   ]
  },
  {
   "cell_type": "code",
   "execution_count": null,
   "metadata": {},
   "outputs": [],
   "source": [
    "book_1='python'\n",
    "print(book_1)"
   ]
  },
  {
   "cell_type": "code",
   "execution_count": null,
   "metadata": {},
   "outputs": [],
   "source": [
    "_book=\"java\"\n",
    "_book"
   ]
  },
  {
   "cell_type": "code",
   "execution_count": null,
   "metadata": {},
   "outputs": [],
   "source": [
    "@book=\"C++\" # invalid syntax coz no special character is valid except underscore _."
   ]
  },
  {
   "cell_type": "markdown",
   "metadata": {},
   "source": [
    "# <u>Data types</u>\n",
    "\n",
    "- Data types are the classification or categorization of data items. It represents the kind of value that tells what operations can be performed on a particular data.\n",
    " ### <u>Types of Datatypes</u>\n",
    " \n",
    "* integer\n",
    "* float\n",
    "* string\n",
    "* boolean\n"
   ]
  },
  {
   "cell_type": "code",
   "execution_count": null,
   "metadata": {},
   "outputs": [],
   "source": [
    "x = 500\n",
    "print(x)\n",
    "type(x) # type() function is used to check the type of datatype.\n"
   ]
  },
  {
   "cell_type": "code",
   "execution_count": null,
   "metadata": {},
   "outputs": [],
   "source": [
    "x = 50.0256358\n",
    "print(x)\n",
    "type(x)\n"
   ]
  },
  {
   "cell_type": "code",
   "execution_count": null,
   "metadata": {},
   "outputs": [],
   "source": [
    "x = \"I love DC Comics!\" #string contains characters which is nothing but alphabets and are always written inside a single or double quotes.\n",
    "print(x)\n",
    "type(x)"
   ]
  },
  {
   "cell_type": "code",
   "execution_count": null,
   "metadata": {},
   "outputs": [],
   "source": [
    "x = True # In True and False value of boolean 'T' and 'F' should be capital.\n",
    "print(x)\n",
    "type(x)"
   ]
  },
  {
   "cell_type": "code",
   "execution_count": null,
   "metadata": {},
   "outputs": [],
   "source": [
    "x = False\n",
    "print(x)\n",
    "type(x)"
   ]
  },
  {
   "cell_type": "markdown",
   "metadata": {},
   "source": [
    "# <u> Typecasting</u>\n",
    "\n",
    "### The process of converting one datatype into another datatype is known as typecasting.\n",
    "\n",
    "###    <u>Typecasting are of two types:</u>\n",
    "\n",
    "- Auto\n",
    "- Forced"
   ]
  },
  {
   "cell_type": "markdown",
   "metadata": {},
   "source": [
    "# <font color=\"Green\"> Note: If you are typecasting float values with the boolean and integer, the result will always be in float."
   ]
  },
  {
   "cell_type": "code",
   "execution_count": null,
   "metadata": {},
   "outputs": [],
   "source": [
    "# Examples of auto typecasting.\n",
    "\n",
    "expression = 10 + 10.5 + True \n",
    "print(expression)\n",
    "type(expression) "
   ]
  },
  {
   "cell_type": "code",
   "execution_count": null,
   "metadata": {},
   "outputs": [],
   "source": [
    "# Example of forced typecasting.\n",
    "\n",
    "num = 10.5\n",
    "print(\"float value:\",num)\n",
    "print(\"checking the type:\", type(num))\n",
    "print()\n",
    "# changing float type to integer type.\n",
    "num = int(num)\n",
    "print(\"Changed to int:\",num)\n",
    "print(\"checking the type:\", type(num))\n"
   ]
  },
  {
   "cell_type": "code",
   "execution_count": null,
   "metadata": {},
   "outputs": [],
   "source": [
    "num = 10\n",
    "print(\"integer value is:\", num)\n",
    "print(\"checking the type\", type(num))\n",
    "print()\n",
    "\n",
    "# changing into float type.\n",
    "\n",
    "num = float(num)\n",
    "print(\"Value changed to float:\", num)\n",
    "print(\"Checking the type:\",num)"
   ]
  },
  {
   "cell_type": "markdown",
   "metadata": {},
   "source": [
    "# <font color=\"Green\"> Note: typecasting of characters to interger, float type or boolean is not possible."
   ]
  },
  {
   "cell_type": "code",
   "execution_count": null,
   "metadata": {},
   "outputs": [],
   "source": [
    "str = \"1\"\n",
    "print(\"This is numeric value as a string,\", str)\n",
    "print(\"Checking the type:\", type(str))\n",
    "print()\n",
    "\n",
    "# changing to integer type.\n",
    "str = int(\"1\")\n",
    "print(\"Changed to integer type:\", str)\n",
    "print(\"Checking the type:\", type(str))\n",
    "print()\n",
    "\n",
    "# changing to float type.\n",
    "str = float(\"1\")\n",
    "print(\"Changed to float type:\", str)\n",
    "print(\"Checking the type:\", type(str))\n",
    "\n",
    "# # changing to boolean type is not possible.\n",
    "\n",
    "# str = bool(\"1\")\n",
    "# print(\"Changed to bool type:\", str)\n",
    "# print(\"Checking the type:\", type(str))\n"
   ]
  },
  {
   "cell_type": "code",
   "execution_count": null,
   "metadata": {},
   "outputs": [],
   "source": [
    "bool = True\n",
    "print(\"Boolean value:\", bool)\n",
    "print(\"Checking the type:\", type(bool))\n",
    "print()\n",
    "\n",
    "# changing to integer.\n",
    "\n",
    "bool = int(True)\n",
    "print(\"Changed to int:\", bool)\n",
    "print(\"Checking the type:\", type(bool))\n",
    "print()\n",
    "\n",
    "# changing to float. \n",
    "bool = float(True)\n",
    "print(\"Changed to float:\", bool)\n",
    "print(\"Checking the type:\", type(bool))\n",
    "print()\n",
    "\n",
    "# changing to string is not possible. \n",
    "# bool = str(True)\n",
    "# print(\"Changed to string:\", bool)\n",
    "# print(\"Checking the type:\", type(bool))\n",
    "# print()"
   ]
  },
  {
   "cell_type": "markdown",
   "metadata": {},
   "source": [
    "# Different ways to print the statement.\n",
    "\n"
   ]
  },
  {
   "cell_type": "code",
   "execution_count": null,
   "metadata": {},
   "outputs": [],
   "source": [
    "# First way to print any statement in single line.\n",
    "\n",
    "movie = 'Marvel'\n",
    "character_name = 'Doctor Strange'\n",
    "box_office_collection = 661.365\n",
    "\n",
    "print(\"I love,\",movie, \"movies. My favorite character is,\", character_name, \"and this movie made a box office collection of,\"\n",
    "      , box_office_collection,\"Cr.\")\n",
    "\n"
   ]
  },
  {
   "cell_type": "code",
   "execution_count": null,
   "metadata": {},
   "outputs": [],
   "source": [
    "# second way to print the statement in multiple line. \n",
    "# \\n - new line\n",
    "# \\t - tab space\n",
    "\n",
    "movie = 'Marvel'\n",
    "character_name = 'Doctor Strange'\n",
    "box_office_collection = 661.365\n",
    "\n",
    "print(\"I love,\",movie,\"movies.\\nMy favorite character is,\",character_name,\".\\nThis movie has made a box office collection of,\",box_office_collection,\"Cr.\")"
   ]
  },
  {
   "cell_type": "code",
   "execution_count": null,
   "metadata": {},
   "outputs": [],
   "source": [
    "# third way of print the statement.\n",
    "\n",
    "movie = 'Marvel'\n",
    "character_name = 'Doctor Strange'\n",
    "box_office_collection = 661.365\n",
    "\n",
    "\n",
    "print(\"I love {} movies. My favourite character is {}. \\nThis movie has made a box office collection of {} cr.\".format(movie,character_name,box_office_collection))"
   ]
  },
  {
   "cell_type": "code",
   "execution_count": null,
   "metadata": {},
   "outputs": [],
   "source": [
    "# gender='female'\n",
    "# name='bag'\n",
    "# age=26\n",
    "\n",
    "# print(\"My gender is=\",gender,\"I am=\",name,\" and i am=\",age,\"years old!\")\n",
    "\n",
    "# print(\"My gender is {}, and I am {} years old, and people call me as {}\".format(gender,age,name))\n",
    "\n",
    "# print(\"My gender is {0}, \\nname is {2} and \\nI am just {1}.\".format(gender,age,name))\n"
   ]
  },
  {
   "cell_type": "markdown",
   "metadata": {},
   "source": [
    "# input()\n",
    "\n",
    "- input functions are used to take the input values from users.\n",
    "- type() of input function is always \"string\" so in this case we use typecasting to change the type of the datatype."
   ]
  },
  {
   "cell_type": "code",
   "execution_count": null,
   "metadata": {},
   "outputs": [],
   "source": [
    "# take input from users and print their name, age, gender and city.\n",
    "\n",
    "name = input(\"Enter your good name:\")\n",
    "print(\"checking the type:\",type(name))\n",
    "print()\n",
    "age = int(input(\"Enter your age:\"))\n",
    "print(\"checking the type:\",type(age))\n",
    "gender = input(\"Enter your gender:\")\n",
    "city = input(\"Enter your city:\")\n",
    "\n",
    "\n",
    "print(name,age,gender,city)"
   ]
  },
  {
   "cell_type": "code",
   "execution_count": 3,
   "metadata": {},
   "outputs": [
    {
     "name": "stdout",
     "output_type": "stream",
     "text": [
      "5.0\n"
     ]
    }
   ],
   "source": [
    "a=10.5\n",
    "b=2\n",
    "c = a//b\n",
    "print(c)"
   ]
  },
  {
   "cell_type": "code",
   "execution_count": null,
   "metadata": {},
   "outputs": [],
   "source": []
  }
 ],
 "metadata": {
  "kernelspec": {
   "display_name": "Python 3",
   "language": "python",
   "name": "python3"
  },
  "language_info": {
   "codemirror_mode": {
    "name": "ipython",
    "version": 3
   },
   "file_extension": ".py",
   "mimetype": "text/x-python",
   "name": "python",
   "nbconvert_exporter": "python",
   "pygments_lexer": "ipython3",
   "version": "3.8.5"
  }
 },
 "nbformat": 4,
 "nbformat_minor": 4
}
